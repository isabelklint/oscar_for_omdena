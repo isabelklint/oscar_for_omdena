{
  "cells": [
    {
      "cell_type": "markdown",
      "metadata": {
        "id": "view-in-github",
        "colab_type": "text"
      },
      "source": [
        "<a href=\"https://colab.research.google.com/github/isabelklint/oscar_for_omdena/blob/main/OSCARforOmdena.ipynb\" target=\"_parent\"><img src=\"https://colab.research.google.com/assets/colab-badge.svg\" alt=\"Open In Colab\"/></a>"
      ]
    },
    {
      "cell_type": "code",
      "execution_count": null,
      "metadata": {
        "id": "gUvM5Udh3Vkd"
      },
      "outputs": [],
      "source": [
        "pip install datasets"
      ]
    },
    {
      "cell_type": "code",
      "execution_count": null,
      "metadata": {
        "id": "-tva_Qp2-U3l"
      },
      "outputs": [],
      "source": [
        "from huggingface_hub import notebook_login\n",
        "notebook_login()\n"
      ]
    },
    {
      "cell_type": "code",
      "execution_count": null,
      "metadata": {
        "id": "OcXQ3XaK-pFk"
      },
      "outputs": [],
      "source": [
        "!pip install zstandard"
      ]
    },
    {
      "cell_type": "code",
      "execution_count": null,
      "metadata": {
        "id": "WFSBtAju4iJP"
      },
      "outputs": [],
      "source": [
        "# example with OSCAR 2201\n",
        "from datasets import load_dataset\n",
        "\n",
        "\n",
        "dataset = load_dataset(\"oscar-corpus/OSCAR-2301\",\n",
        "                        use_auth_token=True, # required \n",
        "                        language=\"am\", \n",
        "                        streaming=True, # optional\n",
        "                        split=\"train\") # optional\n",
        "\n",
        "# for d in dataset:\n",
        "#     print(d) # prints documents"
      ]
    },
    {
      "cell_type": "code",
      "source": [],
      "metadata": {
        "id": "7C-yYfvtC5E-"
      },
      "execution_count": null,
      "outputs": []
    }
  ],
  "metadata": {
    "colab": {
      "provenance": [],
      "authorship_tag": "ABX9TyNpWnlz11ePpMIVaGuaKG1s",
      "include_colab_link": true
    },
    "kernelspec": {
      "display_name": "Python 3",
      "name": "python3"
    },
    "language_info": {
      "name": "python"
    }
  },
  "nbformat": 4,
  "nbformat_minor": 0
}